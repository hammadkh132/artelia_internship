{
 "cells": [
  {
   "cell_type": "code",
   "execution_count": 48,
   "id": "b665944b",
   "metadata": {},
   "outputs": [
    {
     "name": "stdout",
     "output_type": "stream",
     "text": [
      "[1.91996098 1.91800106 1.91599596 ... 1.82123196 1.82907772 1.84642625]\n",
      "[0.         0.         0.         ... 0.11591518 0.10174692 0.07471275]\n",
      "[]\n",
      "[-37.97600174 -37.97499847 -37.97399902 ... -34.77199936 -34.75799942\n",
      " -34.74300003]\n",
      "[-15.2869997  -15.27200031 -15.25599957 ... -15.75       -15.74800014\n",
      " -15.74600029]\n",
      "Volume of water : 0.5570505721182332 m3\n"
     ]
    }
   ],
   "source": [
    "from data_manip.computation.volume import volume_calculation\n",
    "from data_manip.extraction.telemac_file import TelemacFile\n",
    "record_rigid_bed = 0\n",
    "my_mesh_file = \"GAIARES1000.slf\"\n",
    "geo = TelemacFile(my_mesh_file)\n",
    "ikle = geo.get_mesh_connectivity()\n",
    "    \n",
    "# extracting bottom from the mesh file\n",
    "rigid_bed = geo.get_data_value('RIGID BED', record_rigid_bed)\n",
    "    \n",
    "record_bottom = 140\n",
    "    \n",
    "# extracting bottom from the mesh file\n",
    "bottom = geo.get_data_value('BOTTOM', record_bottom)-rigid_bed\n",
    "\n",
    "neg_vol = bottom[bottom < 0]  # it should come empty\n",
    "\n",
    "print(rigid_bed)\n",
    "print(bottom)\n",
    "print(neg_vol) # see its empty\n",
    "\n",
    "# extracting x and y coordinates from the mesh file\n",
    "coord_x = geo.get_mesh_coord(1)\n",
    "coord_y = geo.get_mesh_coord(2)\n",
    "\n",
    "print(coord_x)\n",
    "print(coord_y)\n",
    "\n",
    "# Calculating the volume of water in the mesh\n",
    "volume_w, surface_point, volume_point = volume_calculation(ikle,\n",
    "                                                           bottom,\n",
    "                                                           coord_x,\n",
    "                                                           coord_y)\n",
    "print(\"Volume of water : \" + str(volume_w) + \" m3\")\n"
   ]
  },
  {
   "cell_type": "code",
   "execution_count": 22,
   "id": "743c592e",
   "metadata": {},
   "outputs": [
    {
     "data": {
      "text/plain": [
       "['H CLIPPED',\n",
       " 'ZS CLIPPED',\n",
       " 'BOTTOM',\n",
       " 'CLIPPED QX',\n",
       " 'CLIPPED QY',\n",
       " 'RIGID BED',\n",
       " 'BED SHEAR STRESS',\n",
       " 'SOLID DISCH X',\n",
       " 'SOLID DISCH Y',\n",
       " 'CUMUL BED EVOL',\n",
       " 'TOTAL ROUGHNESS',\n",
       " 'MEAN DIAMETER M',\n",
       " 'LAY1 SAND RAT1',\n",
       " 'LAY1 SAND RAT2',\n",
       " 'LAY1 SAND RAT3',\n",
       " 'LAY1 SAND RAT4',\n",
       " 'LAY1 SAND RAT5',\n",
       " 'LAY1 SAND RAT6',\n",
       " 'LAY1 SAND RAT7',\n",
       " 'LAY1 SAND RAT8',\n",
       " 'ACLADM',\n",
       " 'D84',\n",
       " 'LAY1 MAS SAND1',\n",
       " 'LAY1 MAS SAND2',\n",
       " 'LAY1 MAS SAND3',\n",
       " 'LAY1 MAS SAND4',\n",
       " 'LAY1 MAS SAND5',\n",
       " 'LAY1 MAS SAND6',\n",
       " 'LAY1 MAS SAND7',\n",
       " 'LAY1 MAS SAND8']"
      ]
     },
     "execution_count": 22,
     "metadata": {},
     "output_type": "execute_result"
    }
   ],
   "source": [
    "geo.varnames"
   ]
  },
  {
   "cell_type": "code",
   "execution_count": 39,
   "id": "4d683762",
   "metadata": {},
   "outputs": [
    {
     "name": "stdout",
     "output_type": "stream",
     "text": [
      "[0.         0.         0.         ... 0.11591513 0.10174693 0.07471274]\n"
     ]
    }
   ],
   "source": [
    "# Cum bed at record 140 directlt gives the height change between initial and final time\n",
    "cum_bed = geo.get_data_value('CUMUL BED EVOL', record_bottom)\n",
    "print(cum_bed)"
   ]
  }
 ],
 "metadata": {
  "kernelspec": {
   "display_name": "Python 3 (ipykernel)",
   "language": "python",
   "name": "python3"
  },
  "language_info": {
   "codemirror_mode": {
    "name": "ipython",
    "version": 3
   },
   "file_extension": ".py",
   "mimetype": "text/x-python",
   "name": "python",
   "nbconvert_exporter": "python",
   "pygments_lexer": "ipython3",
   "version": "3.7.9"
  }
 },
 "nbformat": 4,
 "nbformat_minor": 5
}
